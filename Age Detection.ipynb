{
 "cells": [
  {
   "cell_type": "code",
   "execution_count": null,
   "metadata": {},
   "outputs": [],
   "source": [
    "# import the necessary packages\n",
    "from imutils.video import VideoStream\n",
    "import numpy as np\n",
    "import argparse\n",
    "import imutils\n",
    "import time\n",
    "import cv2\n",
    "import os"
   ]
  },
  {
   "cell_type": "code",
   "execution_count": null,
   "metadata": {},
   "outputs": [],
   "source": [
    "def detect_and_predict_age(frame, faceNet, ageNet, minConf=0.5):\n",
    "\t# define the list of age buckets our age detector will predict\n",
    "\tAGE_BUCKETS = [\"(0-2)\", \"(4-6)\", \"(8-12)\", \"(15-20)\", \"(25-32)\",\n",
    "\t\t\"(38-43)\", \"(48-53)\", \"(60-100)\"]\n",
    "\n",
    "\t# initialize our results list\n",
    "\tresults = []\n",
    "\n",
    "\t# grab the dimensions of the frame and then construct a blob\n",
    "\t# from it\n",
    "\t(h, w) = frame.shape[:2]\n",
    "\tblob = cv2.dnn.blobFromImage(frame, 1.0, (300, 300),\n",
    "\t\t(104.0, 177.0, 123.0))\n",
    "\n",
    "\t# pass the blob through the network and obtain the face detections\n",
    "\tfaceNet.setInput(blob)\n",
    "\tdetections = faceNet.forward()\n"
   ]
  },
  {
   "cell_type": "code",
   "execution_count": null,
   "metadata": {},
   "outputs": [],
   "source": [
    "# loop over the detections\n",
    "\tfor i in range(0, detections.shape[2]):\n",
    "\t\t# extract the confidence (i.e., probability) associated with\n",
    "\t\t# the prediction\n",
    "\t\tconfidence = detections[0, 0, i, 2]\n",
    "\n",
    "\t\t# filter out weak detections by ensuring the confidence is\n",
    "\t\t# greater than the minimum confidence\n",
    "\t\tif confidence > minConf:\n",
    "\t\t\t# compute the (x, y)-coordinates of the bounding box for\n",
    "\t\t\t# the object\n",
    "\t\t\tbox = detections[0, 0, i, 3:7] * np.array([w, h, w, h])\n",
    "\t\t\t(startX, startY, endX, endY) = box.astype(\"int\")\n",
    "\n",
    "\t\t\t# extract the ROI of the face\n",
    "\t\t\tface = frame[startY:endY, startX:endX]\n",
    "\n",
    "\t\t\t# ensure the face ROI is sufficiently large\n",
    "\t\t\tif face.shape[0] < 20 or face.shape[1] < 20:\n",
    "\t\t\t\tcontinue"
   ]
  },
  {
   "cell_type": "code",
   "execution_count": null,
   "metadata": {},
   "outputs": [],
   "source": [
    "# construct a blob from *just* the face ROI\n",
    "\t\t\tfaceBlob = cv2.dnn.blobFromImage(face, 1.0, (227, 227),\n",
    "\t\t\t\t(78.4263377603, 87.7689143744, 114.895847746),\n",
    "\t\t\t\tswapRB=False)\n",
    "\n",
    "\t\t\t# make predictions on the age and find the age bucket with\n",
    "\t\t\t# the largest corresponding probability\n",
    "\t\t\tageNet.setInput(faceBlob)\n",
    "\t\t\tpreds = ageNet.forward()\n",
    "\t\t\ti = preds[0].argmax()\n",
    "\t\t\tage = AGE_BUCKETS[i]\n",
    "\t\t\tageConfidence = preds[0][i]\n",
    "\n",
    "\t\t\t# construct a dictionary consisting of both the face\n",
    "\t\t\t# bounding box location along with the age prediction,\n",
    "\t\t\t# then update our results list\n",
    "\t\t\td = {\n",
    "\t\t\t\t\"loc\": (startX, startY, endX, endY),\n",
    "\t\t\t\t\"age\": (age, ageConfidence)\n",
    "\t\t\t}\n",
    "\t\t\tresults.append(d)\n",
    "            \n",
    "            # return our results to the calling function\n",
    "            return results"
   ]
  },
  {
   "cell_type": "code",
   "execution_count": null,
   "metadata": {},
   "outputs": [],
   "source": [
    "# construct the argument parse and parse the arguments\n",
    "ap = argparse.ArgumentParser()\n",
    "ap.add_argument(\"-f\", \"--face\", required=True,\n",
    "\thelp=\"path to face detector model directory\")\n",
    "ap.add_argument(\"-a\", \"--age\", required=True,\n",
    "\thelp=\"path to age detector model directory\")\n",
    "ap.add_argument(\"-c\", \"--confidence\", type=float, default=0.5,\n",
    "\thelp=\"minimum probability to filter weak detections\")\n",
    "args = vars(ap.parse_args())"
   ]
  }
 ],
 "metadata": {
  "kernelspec": {
   "display_name": "Python 3",
   "language": "python",
   "name": "python3"
  },
  "language_info": {
   "codemirror_mode": {
    "name": "ipython",
    "version": 3
   },
   "file_extension": ".py",
   "mimetype": "text/x-python",
   "name": "python",
   "nbconvert_exporter": "python",
   "pygments_lexer": "ipython3",
   "version": "3.6.4"
  }
 },
 "nbformat": 4,
 "nbformat_minor": 2
}

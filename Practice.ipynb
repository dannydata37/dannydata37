{
 "cells": [
  {
   "cell_type": "code",
   "execution_count": null,
   "metadata": {},
   "outputs": [],
   "source": [
    "import pandas as pd\n",
    "import numpy as np\n",
    "import seaborn as sns\n",
    "\n",
    "import matplotlib.pyplot as plt\n",
    "import matplotlib.mlab as mlab\n",
    "import matplotlib\n",
    "\n",
    "pd.options.display.max_rows = 4000\n",
    "\n",
    "\n",
    "df  = pd.read_csv(\"\")\n",
    "\n",
    "print(df.shape)\n",
    "print(df.dtypes)\n",
    "\n",
    "# select numeric columns\n",
    "df_numeric = df.select_dtypes(include = [np.number])\n",
    "numeric_values = df_numeric.column.values\n",
    "print(numeric_values)\n",
    "\n",
    "#select non-numeric columns\n",
    "\n",
    "df_non_numeric = df.select_dtypes(exclude = [np.number])\n",
    "non_numeric_values = df_non_numeric.column.values\n",
    "print(non_numeric_cols)\n",
    "\n",
    "cols = df.columns[:30]\n",
    "sns.heatmap(df[cols].isnull())\n",
    "\n",
    "ind_missing = df[df['num_missing']> 35]\n",
    "df.drop(ind_missing, axis = 0)\n",
    "\n",
    "\n"
   ]
  }
 ],
 "metadata": {
  "kernelspec": {
   "display_name": "Python 3",
   "language": "python",
   "name": "python3"
  },
  "language_info": {
   "codemirror_mode": {
    "name": "ipython",
    "version": 3
   },
   "file_extension": ".py",
   "mimetype": "text/x-python",
   "name": "python",
   "nbconvert_exporter": "python",
   "pygments_lexer": "ipython3",
   "version": "3.6.4"
  }
 },
 "nbformat": 4,
 "nbformat_minor": 2
}
